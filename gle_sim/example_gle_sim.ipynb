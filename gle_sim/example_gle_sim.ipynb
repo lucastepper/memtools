{
 "cells": [
  {
   "cell_type": "code",
   "execution_count": 1,
   "metadata": {},
   "outputs": [],
   "source": [
    "import typing\n",
    "import numpy as np\n",
    "import scipy.interpolate\n",
    "from numba import njit\n",
    "import matplotlib.pyplot as plt\n",
    "import memtools"
   ]
  },
  {
   "cell_type": "code",
   "execution_count": 2,
   "metadata": {},
   "outputs": [],
   "source": [
    "gammas = np.array([2153.04699568, 11519.97063834, 42295.4894054, 236354.6469527, 57311.56052899])\n",
    "tgammas = np.array([6.79235552e-3, 4.55612961, 4.03365040e1, 3.99256311e2, 4.96582603e3])\n",
    "ks = gammas / tgammas\n",
    "mass = 31.34617\n",
    "values, fe = np.load('ala9_fe.npy')\n",
    "kbt = 2.494\n",
    "fe = fe * kbt\n",
    "dt = 0.001\n",
    "steps_sim = int(1e9)\n",
    "steps_equil = int(1e8)\n",
    "stride = 1000\n",
    "cs = scipy.interpolate.CubicSpline(values, fe)\n",
    "spl_m = cs.c.T"
   ]
  },
  {
   "cell_type": "code",
   "execution_count": 3,
   "metadata": {},
   "outputs": [],
   "source": [
    "# equilibrate\n",
    "traj, v0, y0 = memtools.integrate(\n",
    "    x0=0.3,\n",
    "    v0=np.sqrt(kbt / mass) * np.random.normal(),\n",
    "    y0=np.zeros_like(gammas),\n",
    "    steps=steps_equil,\n",
    "    dt=dt,\n",
    "    mass=mass,\n",
    "    kbt=kbt,\n",
    "    gammas=gammas,\n",
    "    ks=ks,\n",
    "    spl_m=spl_m,\n",
    "    values=values,\n",
    "    stride=stride,\n",
    ")\n",
    "x0 = traj[-1]\n",
    "del traj"
   ]
  },
  {
   "cell_type": "code",
   "execution_count": 4,
   "metadata": {},
   "outputs": [],
   "source": [
    "# equilibrate\n",
    "traj, __, ___ = memtools.integrate(\n",
    "    x0=x0,\n",
    "    v0=v0,\n",
    "    y0=y0,\n",
    "    steps=steps_sim,\n",
    "    dt=dt,\n",
    "    mass=mass,\n",
    "    kbt=kbt,\n",
    "    gammas=gammas,\n",
    "    ks=ks,\n",
    "    spl_m=spl_m,\n",
    "    values=values,\n",
    "    stride=stride,\n",
    ")"
   ]
  },
  {
   "cell_type": "code",
   "execution_count": 5,
   "metadata": {},
   "outputs": [
    {
     "data": {
      "text/plain": [
       "Text(0, 0.5, '$q$ [nm]')"
      ]
     },
     "execution_count": 5,
     "metadata": {},
     "output_type": "execute_result"
    },
    {
     "data": {
      "image/png": "[encoded data removed]",
      "text/plain": [
       "<Figure size 432x288 with 1 Axes>"
      ]
     },
     "metadata": {
      "needs_background": "light"
     },
     "output_type": "display_data"
    }
   ],
   "source": [
    "plt.plot(np.arange(len(traj)) * dt * stride / 1000, traj)\n",
    "plt.xlabel(r'$t$ [ns]')\n",
    "plt.ylabel(r'$q$ [nm]')"
   ]
  },
  {
   "cell_type": "code",
   "execution_count": 6,
   "metadata": {},
   "outputs": [
    {
     "ename": "AttributeError",
     "evalue": "module 'memtools' has no attribute 'calc_mfpt'",
     "output_type": "error",
     "traceback": [
      "\u001b[0;31m---------------------------------------------------------------------------\u001b[0m",
      "\u001b[0;31mAttributeError\u001b[0m                            Traceback (most recent call last)",
      "\u001b[0;32m<ipython-input-6-d0a0787981f2>\u001b[0m in \u001b[0;36m<module>\u001b[0;34m\u001b[0m\n\u001b[0;32m----> 1\u001b[0;31m \u001b[0mmfpt\u001b[0m\u001b[0;34m,\u001b[0m \u001b[0mmfpt_err\u001b[0m \u001b[0;34m=\u001b[0m \u001b[0mmemtools\u001b[0m\u001b[0;34m.\u001b[0m\u001b[0mcalc_mfpt\u001b[0m\u001b[0;34m(\u001b[0m\u001b[0mtraj\u001b[0m\u001b[0;34m,\u001b[0m \u001b[0;36m0.32\u001b[0m\u001b[0;34m,\u001b[0m \u001b[0;36m0.99\u001b[0m\u001b[0;34m,\u001b[0m \u001b[0;36m20\u001b[0m\u001b[0;34m,\u001b[0m \u001b[0;36m1.\u001b[0m\u001b[0;34m)\u001b[0m\u001b[0;34m\u001b[0m\u001b[0;34m\u001b[0m\u001b[0m\n\u001b[0m",
      "\u001b[0;31mAttributeError\u001b[0m: module 'memtools' has no attribute 'calc_mfpt'"
     ]
    }
   ],
   "source": [
    "mfpt, mfpt_err = memtools.calc_mfpt(traj, 0.32, 0.99, 20, 1.)"
   ]
  },
  {
   "cell_type": "code",
   "execution_count": null,
   "metadata": {},
   "outputs": [],
   "source": [
    "fig, axes = plt.subplots(1, 1)\n",
    "axes.plot(np.linspace(0.32, 0.99, 20), mfpt[0] / 1000)\n",
    "axes.plot(np.linspace(0.32, 0.99, 20), mfpt[1] / 1000)\n",
    "axes.semilogy()\n",
    "axes.set(xlabel='$q_f$', ylabel=r'$\\tau_{\\mathrm{MFPT}}$')\n",
    "axtwin = ax.twinx()\n",
    "axtwin.plot(values, fe - fe.min(), color='0.4')\n",
    "axtwin.ylabel('F [kJ / mol]')\n",
    "axtwin.ylim(-0.5 , 4)"
   ]
  },
  {
   "cell_type": "code",
   "execution_count": null,
   "metadata": {},
   "outputs": [],
   "source": []
  }
 ],
 "metadata": {
  "kernelspec": {
   "display_name": "main",
   "language": "python",
   "name": "main"
  },
  "language_info": {
   "codemirror_mode": {
    "name": "ipython",
    "version": 3
   },
   "file_extension": ".py",
   "mimetype": "text/x-python",
   "name": "python",
   "nbconvert_exporter": "python",
   "pygments_lexer": "ipython3",
   "version": "3.8.6"
  }
 },
 "nbformat": 4,
 "nbformat_minor": 4
}
